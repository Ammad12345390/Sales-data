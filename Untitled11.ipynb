{
  "nbformat": 4,
  "nbformat_minor": 0,
  "metadata": {
    "colab": {
      "provenance": []
    },
    "kernelspec": {
      "name": "python3",
      "display_name": "Python 3"
    },
    "language_info": {
      "name": "python"
    }
  },
  "cells": [
    {
      "cell_type": "code",
      "execution_count": 9,
      "metadata": {
        "colab": {
          "base_uri": "https://localhost:8080/"
        },
        "id": "jYlxiXhhKqxw",
        "outputId": "4a36946e-4192-4d25-81b7-ebbe00f08ac5"
      },
      "outputs": [
        {
          "output_type": "stream",
          "name": "stdout",
          "text": [
            "Downloaded dataset path: /kaggle/input/online-retail-dataset\n"
          ]
        }
      ],
      "source": [
        "# Step 1: Install kagglehub if not installed\n",
        "!pip install -q kagglehub\n",
        "\n",
        "# Step 2: Import necessary libraries\n",
        "import kagglehub\n",
        "import pandas as pd\n",
        "import os\n",
        "\n",
        "# Step 3: Download the dataset using kagglehub\n",
        "path = kagglehub.dataset_download(\"lakshmi25npathi/online-retail-dataset\")\n",
        "\n",
        "print(\"Downloaded dataset path:\", path)\n",
        "\n"
      ]
    },
    {
      "cell_type": "code",
      "source": [
        "# Step 4: Construct Excel file path\n",
        "excel_path = os.path.join(path, \"online_retail_II.xlsx\")\n"
      ],
      "metadata": {
        "id": "QIo4ClCMc8hE"
      },
      "execution_count": 12,
      "outputs": []
    },
    {
      "cell_type": "code",
      "source": [
        "df = pd.read_excel(excel_path, sheet_name='Year 2010-2011')\n"
      ],
      "metadata": {
        "id": "5x_VhDD0domu"
      },
      "execution_count": 16,
      "outputs": []
    },
    {
      "cell_type": "code",
      "source": [
        "# Step 6: Save the DataFrame as CSV\n",
        "csv_path = \"/content/online_retail_2010_2011.csv\"\n",
        "df.to_csv(csv_path, index=False)\n"
      ],
      "metadata": {
        "id": "sjFRUKrPdsdr"
      },
      "execution_count": 17,
      "outputs": []
    },
    {
      "cell_type": "code",
      "source": [
        "print(\"CSV saved to:\", csv_path)\n"
      ],
      "metadata": {
        "colab": {
          "base_uri": "https://localhost:8080/"
        },
        "id": "5v5jTBPXewOF",
        "outputId": "0164868d-4879-45a5-d215-298830f21b69"
      },
      "execution_count": 18,
      "outputs": [
        {
          "output_type": "stream",
          "name": "stdout",
          "text": [
            "CSV saved to: /content/online_retail_2010_2011.csv\n"
          ]
        }
      ]
    },
    {
      "cell_type": "code",
      "source": [
        "df.shape\n"
      ],
      "metadata": {
        "colab": {
          "base_uri": "https://localhost:8080/"
        },
        "id": "y-W70M1eLO9e",
        "outputId": "8ed4325e-5f47-4a9b-ff20-5fca9e59a8bd"
      },
      "execution_count": 5,
      "outputs": [
        {
          "output_type": "execute_result",
          "data": {
            "text/plain": [
              "(541910, 8)"
            ]
          },
          "metadata": {},
          "execution_count": 5
        }
      ]
    },
    {
      "cell_type": "code",
      "source": [
        "df.describe()"
      ],
      "metadata": {
        "id": "8XxLZpH2L_ca"
      },
      "execution_count": null,
      "outputs": []
    },
    {
      "cell_type": "code",
      "source": [
        "df.info()"
      ],
      "metadata": {
        "colab": {
          "base_uri": "https://localhost:8080/"
        },
        "id": "zObzFAvYMUeG",
        "outputId": "4b275a41-cb3a-4ec6-a4a3-96002a91becb"
      },
      "execution_count": null,
      "outputs": [
        {
          "output_type": "stream",
          "name": "stdout",
          "text": [
            "<class 'pandas.core.frame.DataFrame'>\n",
            "RangeIndex: 541910 entries, 0 to 541909\n",
            "Data columns (total 8 columns):\n",
            " #   Column       Non-Null Count   Dtype         \n",
            "---  ------       --------------   -----         \n",
            " 0   Invoice      541910 non-null  object        \n",
            " 1   StockCode    541910 non-null  object        \n",
            " 2   Description  540456 non-null  object        \n",
            " 3   Quantity     541910 non-null  int64         \n",
            " 4   InvoiceDate  541910 non-null  datetime64[ns]\n",
            " 5   Price        541910 non-null  float64       \n",
            " 6   Customer ID  406830 non-null  float64       \n",
            " 7   Country      541910 non-null  object        \n",
            "dtypes: datetime64[ns](1), float64(2), int64(1), object(4)\n",
            "memory usage: 33.1+ MB\n"
          ]
        }
      ]
    },
    {
      "cell_type": "code",
      "source": [
        "df.isnull().sum()\n"
      ],
      "metadata": {
        "colab": {
          "base_uri": "https://localhost:8080/",
          "height": 335
        },
        "id": "WOKwDxTPMrOJ",
        "outputId": "926f5a63-0cab-469d-aad2-0cced61dbdf6"
      },
      "execution_count": null,
      "outputs": [
        {
          "output_type": "execute_result",
          "data": {
            "text/plain": [
              "Invoice             0\n",
              "StockCode           0\n",
              "Description      1454\n",
              "Quantity            0\n",
              "InvoiceDate         0\n",
              "Price               0\n",
              "Customer ID    135080\n",
              "Country             0\n",
              "dtype: int64"
            ],
            "text/html": [
              "<div>\n",
              "<style scoped>\n",
              "    .dataframe tbody tr th:only-of-type {\n",
              "        vertical-align: middle;\n",
              "    }\n",
              "\n",
              "    .dataframe tbody tr th {\n",
              "        vertical-align: top;\n",
              "    }\n",
              "\n",
              "    .dataframe thead th {\n",
              "        text-align: right;\n",
              "    }\n",
              "</style>\n",
              "<table border=\"1\" class=\"dataframe\">\n",
              "  <thead>\n",
              "    <tr style=\"text-align: right;\">\n",
              "      <th></th>\n",
              "      <th>0</th>\n",
              "    </tr>\n",
              "  </thead>\n",
              "  <tbody>\n",
              "    <tr>\n",
              "      <th>Invoice</th>\n",
              "      <td>0</td>\n",
              "    </tr>\n",
              "    <tr>\n",
              "      <th>StockCode</th>\n",
              "      <td>0</td>\n",
              "    </tr>\n",
              "    <tr>\n",
              "      <th>Description</th>\n",
              "      <td>1454</td>\n",
              "    </tr>\n",
              "    <tr>\n",
              "      <th>Quantity</th>\n",
              "      <td>0</td>\n",
              "    </tr>\n",
              "    <tr>\n",
              "      <th>InvoiceDate</th>\n",
              "      <td>0</td>\n",
              "    </tr>\n",
              "    <tr>\n",
              "      <th>Price</th>\n",
              "      <td>0</td>\n",
              "    </tr>\n",
              "    <tr>\n",
              "      <th>Customer ID</th>\n",
              "      <td>135080</td>\n",
              "    </tr>\n",
              "    <tr>\n",
              "      <th>Country</th>\n",
              "      <td>0</td>\n",
              "    </tr>\n",
              "  </tbody>\n",
              "</table>\n",
              "</div><br><label><b>dtype:</b> int64</label>"
            ]
          },
          "metadata": {},
          "execution_count": 2
        }
      ]
    },
    {
      "cell_type": "code",
      "source": [
        "df_amd = df['Description'].fillna(\"Unknown\", inplace=True)\n",
        "print(df_amd)"
      ],
      "metadata": {
        "colab": {
          "base_uri": "https://localhost:8080/"
        },
        "id": "G799pYGbM-jL",
        "outputId": "602543f7-b2da-49f0-e92c-d131970c5f5e"
      },
      "execution_count": null,
      "outputs": [
        {
          "output_type": "stream",
          "name": "stdout",
          "text": [
            "None\n"
          ]
        },
        {
          "output_type": "stream",
          "name": "stderr",
          "text": [
            "/tmp/ipython-input-9-479798290.py:1: FutureWarning: A value is trying to be set on a copy of a DataFrame or Series through chained assignment using an inplace method.\n",
            "The behavior will change in pandas 3.0. This inplace method will never work because the intermediate object on which we are setting values always behaves as a copy.\n",
            "\n",
            "For example, when doing 'df[col].method(value, inplace=True)', try using 'df.method({col: value}, inplace=True)' or df[col] = df[col].method(value) instead, to perform the operation inplace on the original object.\n",
            "\n",
            "\n",
            "  df_amd = df['Description'].fillna(\"Unknown\", inplace=True)\n"
          ]
        }
      ]
    },
    {
      "cell_type": "code",
      "source": [
        "df.isnull().sum()"
      ],
      "metadata": {
        "colab": {
          "base_uri": "https://localhost:8080/",
          "height": 335
        },
        "id": "ojx7IJS4sHpt",
        "outputId": "481181f9-5683-45b4-c209-ad025e1985f8"
      },
      "execution_count": null,
      "outputs": [
        {
          "output_type": "execute_result",
          "data": {
            "text/plain": [
              "Invoice             0\n",
              "StockCode           0\n",
              "Description         0\n",
              "Quantity            0\n",
              "InvoiceDate         0\n",
              "Price               0\n",
              "Customer ID    135080\n",
              "Country             0\n",
              "dtype: int64"
            ],
            "text/html": [
              "<div>\n",
              "<style scoped>\n",
              "    .dataframe tbody tr th:only-of-type {\n",
              "        vertical-align: middle;\n",
              "    }\n",
              "\n",
              "    .dataframe tbody tr th {\n",
              "        vertical-align: top;\n",
              "    }\n",
              "\n",
              "    .dataframe thead th {\n",
              "        text-align: right;\n",
              "    }\n",
              "</style>\n",
              "<table border=\"1\" class=\"dataframe\">\n",
              "  <thead>\n",
              "    <tr style=\"text-align: right;\">\n",
              "      <th></th>\n",
              "      <th>0</th>\n",
              "    </tr>\n",
              "  </thead>\n",
              "  <tbody>\n",
              "    <tr>\n",
              "      <th>Invoice</th>\n",
              "      <td>0</td>\n",
              "    </tr>\n",
              "    <tr>\n",
              "      <th>StockCode</th>\n",
              "      <td>0</td>\n",
              "    </tr>\n",
              "    <tr>\n",
              "      <th>Description</th>\n",
              "      <td>0</td>\n",
              "    </tr>\n",
              "    <tr>\n",
              "      <th>Quantity</th>\n",
              "      <td>0</td>\n",
              "    </tr>\n",
              "    <tr>\n",
              "      <th>InvoiceDate</th>\n",
              "      <td>0</td>\n",
              "    </tr>\n",
              "    <tr>\n",
              "      <th>Price</th>\n",
              "      <td>0</td>\n",
              "    </tr>\n",
              "    <tr>\n",
              "      <th>Customer ID</th>\n",
              "      <td>135080</td>\n",
              "    </tr>\n",
              "    <tr>\n",
              "      <th>Country</th>\n",
              "      <td>0</td>\n",
              "    </tr>\n",
              "  </tbody>\n",
              "</table>\n",
              "</div><br><label><b>dtype:</b> int64</label>"
            ]
          },
          "metadata": {},
          "execution_count": 10
        }
      ]
    },
    {
      "cell_type": "code",
      "source": [
        "df_cleaned = df.dropna(subset=[\"Customer ID\"])\n",
        "print(df_cleaned.isnull().sum())"
      ],
      "metadata": {
        "colab": {
          "base_uri": "https://localhost:8080/"
        },
        "id": "W5kx3ZzgsP5b",
        "outputId": "cefcbf16-b131-4765-c6d8-39767f4d41a2"
      },
      "execution_count": null,
      "outputs": [
        {
          "output_type": "stream",
          "name": "stdout",
          "text": [
            "Invoice        0\n",
            "StockCode      0\n",
            "Description    0\n",
            "Quantity       0\n",
            "InvoiceDate    0\n",
            "Price          0\n",
            "Customer ID    0\n",
            "Country        0\n",
            "dtype: int64\n"
          ]
        }
      ]
    },
    {
      "cell_type": "code",
      "source": [
        "df_cleaned = df_cleaned.drop_duplicates()\n",
        "# Check for any remaining duplicates\n",
        "duplicates_exist = df_cleaned.duplicated().any()\n",
        "print(\"Are there any duplicates?\", duplicates_exist)"
      ],
      "metadata": {
        "colab": {
          "base_uri": "https://localhost:8080/"
        },
        "id": "VUVAPSP3tTlx",
        "outputId": "ac2ac2c7-1c7d-43a9-bde5-55fa6a2822c9"
      },
      "execution_count": null,
      "outputs": [
        {
          "output_type": "stream",
          "name": "stdout",
          "text": [
            "Are there any duplicates? False\n"
          ]
        }
      ]
    },
    {
      "cell_type": "code",
      "source": [
        "num_canceled = df['Invoice'].str.startswith('C').sum()\n",
        "print(\"Total canceled orders:\", num_canceled)\n",
        "\n"
      ],
      "metadata": {
        "colab": {
          "base_uri": "https://localhost:8080/"
        },
        "id": "dyj9qYYluDUB",
        "outputId": "6191ca2e-c150-4964-8fbd-846d063de989"
      },
      "execution_count": null,
      "outputs": [
        {
          "output_type": "stream",
          "name": "stdout",
          "text": [
            "Total canceled orders: 9288\n"
          ]
        }
      ]
    },
    {
      "cell_type": "code",
      "source": [
        "df = df[~df['Invoice'].astype(str).str.startswith('C')]\n",
        "print(\"New dataset shape:\", df.shape)\n"
      ],
      "metadata": {
        "colab": {
          "base_uri": "https://localhost:8080/"
        },
        "id": "NXWr9-SQxW4d",
        "outputId": "f14818f8-0b84-4aec-8e64-69f4faaec4f1"
      },
      "execution_count": null,
      "outputs": [
        {
          "output_type": "stream",
          "name": "stdout",
          "text": [
            "New dataset shape: (532622, 8)\n"
          ]
        }
      ]
    },
    {
      "cell_type": "code",
      "source": [
        "import pandas as pd\n",
        "\n",
        "def remove_outliers_iqr_multiple(df, columns):\n",
        "    for column in columns:\n",
        "        Q1 = df[column].quantile(0.25)\n",
        "        Q3 = df[column].quantile(0.75)\n",
        "        IQR = Q3 - Q1\n",
        "        lower_limit = Q1 - 1.5 * IQR\n",
        "        upper_limit = Q3 + 1.5 * IQR\n",
        "        df = df[(df[column] >= lower_limit) & (df[column] <= upper_limit)]\n",
        "    return df\n",
        "\n",
        "# Use it for Quantity and UnitPrice\n",
        "df = remove_outliers_iqr_multiple(df, [\"Quantity\"])\n",
        "\n",
        "print(\"Shape after removing outliers from columns:\", df.shape)\n"
      ],
      "metadata": {
        "colab": {
          "base_uri": "https://localhost:8080/"
        },
        "id": "_pGM-2gxxpHo",
        "outputId": "794511fc-eb98-40b6-db2a-c692090d2365"
      },
      "execution_count": null,
      "outputs": [
        {
          "output_type": "stream",
          "name": "stdout",
          "text": [
            "Shape after removing outliers from columns: (475084, 8)\n"
          ]
        }
      ]
    },
    {
      "cell_type": "code",
      "source": [
        "import pandas as pd\n",
        "\n",
        "# Assuming your DataFrame is named df\n",
        "df['InvoiceDate'] = pd.to_datetime(df['InvoiceDate'])\n",
        "\n",
        "# Check the data type to confirm\n",
        "print(df['InvoiceDate'].dtype)\n"
      ],
      "metadata": {
        "colab": {
          "base_uri": "https://localhost:8080/"
        },
        "id": "k_1By28vzVgJ",
        "outputId": "8d6d1469-8fed-4de5-b19f-472f2bfd5cf1"
      },
      "execution_count": null,
      "outputs": [
        {
          "output_type": "stream",
          "name": "stdout",
          "text": [
            "datetime64[ns]\n"
          ]
        }
      ]
    },
    {
      "cell_type": "code",
      "source": [
        "df.columns"
      ],
      "metadata": {
        "colab": {
          "base_uri": "https://localhost:8080/"
        },
        "id": "IHiY0HR7zZMf",
        "outputId": "c89c9637-7a20-47d4-da83-ea0fc29e4f57"
      },
      "execution_count": null,
      "outputs": [
        {
          "output_type": "execute_result",
          "data": {
            "text/plain": [
              "Index(['Invoice', 'StockCode', 'Description', 'Quantity', 'InvoiceDate',\n",
              "       'Price', 'Customer ID', 'Country'],\n",
              "      dtype='object')"
            ]
          },
          "metadata": {},
          "execution_count": 14
        }
      ]
    },
    {
      "cell_type": "code",
      "source": [
        "unique_products = df['StockCode'].nunique()\n",
        "print(\"Unique products:\", unique_products)\n"
      ],
      "metadata": {
        "colab": {
          "base_uri": "https://localhost:8080/"
        },
        "id": "i0IJDj6N0MRF",
        "outputId": "4726a312-004f-4ef5-c7af-87e59cf4dcd6"
      },
      "execution_count": null,
      "outputs": [
        {
          "output_type": "stream",
          "name": "stdout",
          "text": [
            "Unique products: 4070\n"
          ]
        }
      ]
    },
    {
      "cell_type": "code",
      "source": [
        "total_transactions = df['Invoice'].nunique()\n",
        "print(\"Total number of transactions:\", total_transactions)\n"
      ],
      "metadata": {
        "colab": {
          "base_uri": "https://localhost:8080/"
        },
        "id": "DH60If9CN1Gr",
        "outputId": "6b3c2042-6478-442c-a520-d745285ff64b"
      },
      "execution_count": null,
      "outputs": [
        {
          "output_type": "stream",
          "name": "stdout",
          "text": [
            "Total number of transactions: 19355\n"
          ]
        }
      ]
    },
    {
      "cell_type": "code",
      "source": [
        "unique_customers = df['Customer ID'].nunique()\n",
        "print(\"Unique customers:\", unique_customers)\n"
      ],
      "metadata": {
        "colab": {
          "base_uri": "https://localhost:8080/"
        },
        "id": "Oqs-_6yYOFDe",
        "outputId": "f849b983-1531-4821-b93f-fdf11207927b"
      },
      "execution_count": null,
      "outputs": [
        {
          "output_type": "stream",
          "name": "stdout",
          "text": [
            "Unique customers: 4372\n"
          ]
        }
      ]
    },
    {
      "cell_type": "code",
      "source": [
        "countries = df['Country'].unique()\n",
        "print(\"Countries:\", countries)\n",
        "print(\"Total number of countries:\", len(countries))\n"
      ],
      "metadata": {
        "colab": {
          "base_uri": "https://localhost:8080/"
        },
        "id": "DfH5gla_OTDY",
        "outputId": "31c0e8af-2f10-4e01-98d5-4f58c60695e5"
      },
      "execution_count": null,
      "outputs": [
        {
          "output_type": "stream",
          "name": "stdout",
          "text": [
            "Countries: ['United Kingdom' 'France' 'Australia' 'Netherlands' 'Germany' 'Norway'\n",
            " 'EIRE' 'Switzerland' 'Poland' 'Portugal' 'Italy' 'Belgium' 'Lithuania'\n",
            " 'Japan' 'Iceland' 'Channel Islands' 'Denmark' 'Spain' 'Cyprus' 'Finland'\n",
            " 'Austria' 'Sweden' 'Israel' 'Greece' 'Hong Kong' 'Singapore' 'Lebanon'\n",
            " 'United Arab Emirates' 'Saudi Arabia' 'Czech Republic' 'Canada'\n",
            " 'Unspecified' 'Brazil' 'USA' 'European Community' 'Bahrain' 'Malta' 'RSA']\n",
            "Total number of countries: 38\n"
          ]
        }
      ]
    },
    {
      "cell_type": "code",
      "source": [
        "top_selling = df.groupby(['StockCode', 'Description'])['Quantity'].sum().sort_values(ascending=False).head(10)\n",
        "print(\"Top 10 selling products by quantity:\\n\")\n",
        "print(top_selling)\n"
      ],
      "metadata": {
        "colab": {
          "base_uri": "https://localhost:8080/"
        },
        "id": "QYLfpBBPPS06",
        "outputId": "604c94ac-683b-4fc8-be9e-1ba16cde0913"
      },
      "execution_count": null,
      "outputs": [
        {
          "output_type": "stream",
          "name": "stdout",
          "text": [
            "Top 10 selling products by quantity:\n",
            "\n",
            "StockCode  Description                       \n",
            "85099B     JUMBO BAG RED RETROSPOT               14050\n",
            "84879      ASSORTED COLOUR BIRD ORNAMENT         11054\n",
            "85123A     WHITE HANGING HEART T-LIGHT HOLDER    10751\n",
            "20725      LUNCH BAG RED RETROSPOT               10519\n",
            "22423      REGENCY CAKESTAND 3 TIER               8328\n",
            "20727      LUNCH BAG  BLACK SKULL.                8208\n",
            "20728      LUNCH BAG CARS BLUE                    7928\n",
            "47566      PARTY BUNTING                          7822\n",
            "22961      JAM MAKING SET PRINTED                 7658\n",
            "22386      JUMBO BAG PINK POLKADOT                7453\n",
            "Name: Quantity, dtype: int64\n"
          ]
        }
      ]
    },
    {
      "cell_type": "code",
      "source": [
        "# Create a new column for revenue\n",
        "df['Revenue'] = df['Quantity'] * df['Price']\n",
        "\n",
        "top_revenue = df.groupby(['StockCode', 'Description'])['Revenue'] \\\n",
        "                .sum().sort_values(ascending=False).head(10)\n",
        "\n",
        "print(\"Top 10 revenue-generating products:\\n\")\n",
        "print(top_revenue)\n"
      ],
      "metadata": {
        "colab": {
          "base_uri": "https://localhost:8080/"
        },
        "id": "jnRWMNF0uuKp",
        "outputId": "ddfc79c6-afc0-406a-bc61-e68ec73d6b07"
      },
      "execution_count": null,
      "outputs": [
        {
          "output_type": "stream",
          "name": "stdout",
          "text": [
            "Top 10 revenue-generating products:\n",
            "\n",
            "StockCode  Description                       \n",
            "DOT        DOTCOM POSTAGE                        206248.77\n",
            "22423      REGENCY CAKESTAND 3 TIER              109478.96\n",
            "POST       POSTAGE                                78119.88\n",
            "M          Manual                                 74751.34\n",
            "47566      PARTY BUNTING                          43886.48\n",
            "85123A     WHITE HANGING HEART T-LIGHT HOLDER     32930.13\n",
            "85099B     JUMBO BAG RED RETROSPOT                32286.86\n",
            "23298      SPOTTY BUNTING                         27708.70\n",
            "22960      JAM MAKING SET WITH JARS               24286.90\n",
            "23284      DOORMAT KEEP CALM AND COME IN          23477.38\n",
            "Name: Revenue, dtype: float64\n"
          ]
        }
      ]
    },
    {
      "cell_type": "code",
      "source": [
        "# Filter all rows with zero or negative unit price\n",
        "invalid_price_products = df[df['Price'] <= 0][['Invoice', 'StockCode', 'Description', 'Quantity', 'Price']]\n",
        "\n",
        "print(\"All rows with zero or negative unit prices:\\n\")\n",
        "print(invalid_price_products)\n"
      ],
      "metadata": {
        "colab": {
          "base_uri": "https://localhost:8080/"
        },
        "id": "lcw1myBvvYmJ",
        "outputId": "7597c848-3e28-458f-fa27-a9a85b7e5a4a"
      },
      "execution_count": null,
      "outputs": [
        {
          "output_type": "stream",
          "name": "stdout",
          "text": [
            "All rows with zero or negative unit prices:\n",
            "\n",
            "       Invoice StockCode Description  Quantity  Price\n",
            "1510    536545     21134         NaN         1    0.0\n",
            "1985    536547     37509         NaN         1    0.0\n",
            "1986    536546     22145         NaN         1    0.0\n",
            "2022    536552     20950         NaN         1    0.0\n",
            "2023    536549    85226A         NaN         1    0.0\n",
            "...        ...       ...         ...       ...    ...\n",
            "535326  581203     23406         NaN        15    0.0\n",
            "535331  581208    72801C       check       -10    0.0\n",
            "535332  581209     21620         NaN         6    0.0\n",
            "535334  581211     22142       check        14    0.0\n",
            "538554  581408     85175         NaN        20    0.0\n",
            "\n",
            "[1342 rows x 5 columns]\n"
          ]
        }
      ]
    },
    {
      "cell_type": "code",
      "source": [
        "most_products = df.groupby('Customer ID')['Quantity'].sum().sort_values(ascending=False).head(10)\n",
        "\n",
        "print(\"Top 10 customers who bought the most products:\\n\")\n",
        "print(most_products)\n"
      ],
      "metadata": {
        "colab": {
          "base_uri": "https://localhost:8080/"
        },
        "id": "2LOoOW-mx2tM",
        "outputId": "fe05ac13-d6f7-4d97-9ffc-7e6d69c5f77f"
      },
      "execution_count": null,
      "outputs": [
        {
          "output_type": "stream",
          "name": "stdout",
          "text": [
            "Top 10 customers who bought the most products:\n",
            "\n",
            "Customer ID\n",
            "14911.0    35748\n",
            "17841.0    17674\n",
            "14096.0    14437\n",
            "13089.0    12612\n",
            "12748.0    12290\n",
            "14298.0     7077\n",
            "13081.0     6965\n",
            "15039.0     6876\n",
            "14156.0     6559\n",
            "15311.0     6387\n",
            "Name: Quantity, dtype: int64\n"
          ]
        }
      ]
    },
    {
      "cell_type": "code",
      "source": [
        "purchases_per_customer = df.groupby('Customer ID')['Invoice'].nunique()\n",
        "\n",
        "print(\"Purchases per customer distribution:\\n\")\n",
        "print(purchases_per_customer.describe())  # Summary stats\n"
      ],
      "metadata": {
        "colab": {
          "base_uri": "https://localhost:8080/"
        },
        "id": "dGE6y63iydmv",
        "outputId": "cbc77233-8cb5-42bc-99c5-ef2cd8d97a29"
      },
      "execution_count": null,
      "outputs": [
        {
          "output_type": "stream",
          "name": "stdout",
          "text": [
            "Purchases per customer distribution:\n",
            "\n",
            "count    4216.000000\n",
            "mean        4.030123\n",
            "std         7.080543\n",
            "min         1.000000\n",
            "25%         1.000000\n",
            "50%         2.000000\n",
            "75%         4.000000\n",
            "max       199.000000\n",
            "Name: Invoice, dtype: float64\n"
          ]
        }
      ]
    },
    {
      "cell_type": "code",
      "source": [
        "loyal_customers = purchases_per_customer[purchases_per_customer >= 10]\n",
        "print(f\"Number of loyal customers (10+ purchases): {len(loyal_customers)}\")\n",
        "print(\"List of loyal customers:\\n\")\n",
        "print(loyal_customers.sort_values(ascending=False))\n"
      ],
      "metadata": {
        "colab": {
          "base_uri": "https://localhost:8080/"
        },
        "id": "Ayjml_SHzjx_",
        "outputId": "276b58c7-5038-4175-ee20-2c650d5914f5"
      },
      "execution_count": null,
      "outputs": [
        {
          "output_type": "stream",
          "name": "stdout",
          "text": [
            "Number of loyal customers (10+ purchases): 351\n",
            "List of loyal customers:\n",
            "\n",
            "Customer ID\n",
            "12748.0    199\n",
            "14911.0    197\n",
            "17841.0    123\n",
            "14606.0     93\n",
            "15311.0     91\n",
            "          ... \n",
            "17858.0     10\n",
            "12490.0     10\n",
            "12481.0     10\n",
            "12415.0     10\n",
            "12362.0     10\n",
            "Name: Invoice, Length: 351, dtype: int64\n"
          ]
        }
      ]
    },
    {
      "cell_type": "code",
      "source": [
        "# Step 2: Convert 'InvoiceDate' to datetime\n",
        "df['InvoiceDate'] = pd.to_datetime(df['InvoiceDate'])\n",
        "df['Sales'] = df['Quantity'] * df['Price']"
      ],
      "metadata": {
        "id": "1U0KpySHUqmu"
      },
      "execution_count": 24,
      "outputs": []
    },
    {
      "cell_type": "code",
      "source": [
        "# Group by country and count unique invoices (orders)\n",
        "orders_by_country = df.groupby('Country')['Invoice'].nunique().sort_values(ascending=False)\n",
        "\n",
        "# Show top 10 countries\n",
        "print(\"Top 10 countries by number of orders:\\n\")\n",
        "print(orders_by_country.head(10))\n"
      ],
      "metadata": {
        "colab": {
          "base_uri": "https://localhost:8080/"
        },
        "id": "s08pBLTwgjh3",
        "outputId": "81b7dd1e-51fc-470d-a6be-542d724a1433"
      },
      "execution_count": 37,
      "outputs": [
        {
          "output_type": "stream",
          "name": "stdout",
          "text": [
            "Top 10 countries by number of orders:\n",
            "\n",
            "Country\n",
            "United Kingdom    23494\n",
            "Germany             603\n",
            "France              461\n",
            "EIRE                360\n",
            "Belgium             119\n",
            "Spain               105\n",
            "Netherlands         101\n",
            "Switzerland          74\n",
            "Portugal             71\n",
            "Australia            69\n",
            "Name: Invoice, dtype: int64\n"
          ]
        }
      ]
    },
    {
      "cell_type": "code",
      "source": [
        "# Create a new column for revenue\n",
        "df['Revenue'] = df['Quantity'] * df['Price']\n",
        "\n",
        "# Group by country and sum revenue\n",
        "revenue_by_country = df.groupby('Country')['Revenue'].sum().sort_values(ascending=False)\n",
        "\n",
        "# Show top 10 countries by revenue\n",
        "print(\"Top 10 countries by total revenue:\\n\")\n",
        "print(revenue_by_country.head(10))\n"
      ],
      "metadata": {
        "colab": {
          "base_uri": "https://localhost:8080/"
        },
        "id": "JBN-1ZWghJQ4",
        "outputId": "e2d9e28d-bbd0-452b-b778-0d7d472be2eb"
      },
      "execution_count": 38,
      "outputs": [
        {
          "output_type": "stream",
          "name": "stdout",
          "text": [
            "Top 10 countries by total revenue:\n",
            "\n",
            "Country\n",
            "United Kingdom    8187806.364\n",
            "Netherlands        284661.540\n",
            "EIRE               263276.820\n",
            "Germany            221698.210\n",
            "France             197421.900\n",
            "Australia          137077.270\n",
            "Switzerland         56385.350\n",
            "Spain               54774.580\n",
            "Belgium             40910.960\n",
            "Sweden              36595.910\n",
            "Name: Revenue, dtype: float64\n"
          ]
        }
      ]
    },
    {
      "cell_type": "code",
      "source": [
        "df.to_csv('/content/sales_data.csv', index=False)\n"
      ],
      "metadata": {
        "id": "_G4igFD7iANS"
      },
      "execution_count": 39,
      "outputs": []
    },
    {
      "cell_type": "code",
      "source": [
        "from google.colab import drive\n",
        "drive.mount('/content/drive')\n"
      ],
      "metadata": {
        "colab": {
          "base_uri": "https://localhost:8080/"
        },
        "id": "4jW0dM7jkOWO",
        "outputId": "c9e84a7d-3624-42c8-811d-ef250f393f4d"
      },
      "execution_count": 40,
      "outputs": [
        {
          "output_type": "stream",
          "name": "stdout",
          "text": [
            "Mounted at /content/drive\n"
          ]
        }
      ]
    },
    {
      "cell_type": "code",
      "source": [
        "!cp /content/sales_data.csv /content/drive/MyDrive/\n"
      ],
      "metadata": {
        "id": "iPbwFf35kbKp"
      },
      "execution_count": 41,
      "outputs": []
    }
  ]
}